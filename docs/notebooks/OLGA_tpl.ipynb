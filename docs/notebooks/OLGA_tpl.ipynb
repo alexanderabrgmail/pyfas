{
 "cells": [
  {
   "cell_type": "code",
   "execution_count": 1,
   "metadata": {
    "collapsed": true,
    "init_cell": true
   },
   "outputs": [],
   "source": [
    "import pyfas as fa\n",
    "import pandas as pd\n",
    "import matplotlib.pyplot as plt"
   ]
  },
  {
   "cell_type": "markdown",
   "metadata": {},
   "source": [
    "# OLGA tpl files, examples and howto"
   ]
  },
  {
   "cell_type": "markdown",
   "metadata": {},
   "source": [
    "For an tpl file the following methods are available:\n",
    "\n",
    "* <b>filter_data</b> - return a filtered subset of trends\n",
    "* <b>extract</b> - extract a single trend variable\n",
    "* <b>to_excel</b> - dump all the data to an excel file\n",
    "\n",
    "The usual workflow should be:\n",
    "\n",
    "1. Load the correct tpl\n",
    "2. Select the desired variable(s)\n",
    "3. Extract the results or dump all the variables to an excel file\n",
    "4. Post-process your data in Excel or in the notebook itself"
   ]
  },
  {
   "cell_type": "markdown",
   "metadata": {},
   "source": [
    "## Tpl loading"
   ]
  },
  {
   "cell_type": "markdown",
   "metadata": {},
   "source": [
    "To load a specific tpl file the correct path and filename have to be provided:"
   ]
  },
  {
   "cell_type": "code",
   "execution_count": 2,
   "metadata": {
    "collapsed": true
   },
   "outputs": [],
   "source": [
    "tpl_path = '../../pyfas/test/test_files/'\n",
    "fname = '11_2022_BD.tpl'\n",
    "tpl = fa.Tpl(tpl_path+fname)"
   ]
  },
  {
   "cell_type": "markdown",
   "metadata": {},
   "source": [
    "### Trend selection"
   ]
  },
  {
   "cell_type": "markdown",
   "metadata": {},
   "source": [
    "A tpl file may contain hundreds of trends, in particular for complex networks. For this reason a filtering method is quite useful. A trend can be specified in an OLGA input files in differnet ways, the identification of a single trend may be not trivial.  \n",
    "The easiest way is to filter all the trends using patters, the command `tpl.filter_trends(\"PT\")` filters all the pressure trends (or better, all the trends with \"PT\" in the description, if you have defined a temperature trend in the position \"PTTOPSIDE\", for example, this trend will be selected too).\n",
    "The resulting python dictionaly will have a unique index for each filtered trend that can be used to identify the interesting trend(s).\n",
    "In case of an emply pattern all the available trends will be reported."
   ]
  },
  {
   "cell_type": "code",
   "execution_count": 3,
   "metadata": {},
   "outputs": [
    {
     "data": {
      "text/plain": [
       "{9: \"PT 'POSITION:' 'EXIT' '(PA)' 'Pressure'\\n\",\n",
       " 37: \"PT 'POSITION:' 'BOTTOMHOLE' '(PA)' 'Pressure'\\n\",\n",
       " 38: \"PT 'POSITION:' 'TUBINGHEAD' '(PA)' 'Pressure'\\n\",\n",
       " 39: \"PT 'POSITION:' 'DC6' '(PA)' 'Pressure'\\n\",\n",
       " 40: \"PT 'POSITION:' 'DC7' '(PA)' 'Pressure'\\n\",\n",
       " 41: \"PT 'POSITION:' 'DC8' '(PA)' 'Pressure'\\n\",\n",
       " 42: \"PT 'POSITION:' 'DC9' '(PA)' 'Pressure'\\n\",\n",
       " 43: \"PT 'POSITION:' 'RBM' '(PA)' 'Pressure'\\n\",\n",
       " 44: \"PT 'POSITION:' 'EXIT' '(PA)' 'Pressure'\\n\"}"
      ]
     },
     "execution_count": 3,
     "metadata": {},
     "output_type": "execute_result"
    }
   ],
   "source": [
    "tpl.filter_data('PT')"
   ]
  },
  {
   "cell_type": "markdown",
   "metadata": {},
   "source": [
    "or"
   ]
  },
  {
   "cell_type": "code",
   "execution_count": 4,
   "metadata": {},
   "outputs": [
    {
     "data": {
      "text/plain": [
       "{3: \"GLT 'POSITION:' 'EXIT' '(KG/S)' 'Total liquid mass flow'\\n\",\n",
       " 4: \"GLTHL 'POSITION:' 'EXIT' '(KG/S)' 'Mass flow rate of oil'\\n\",\n",
       " 5: \"GLTWT 'POSITION:' 'EXIT' '(KG/S)' 'Mass flow rate of water excluding vapour'\\n\",\n",
       " 6: \"GLWVT 'POSITION:' 'EXIT' '(KG/S)' 'Total mass flow rate of water including Vapour'\\n\",\n",
       " 7: \"GT 'POSITION:' 'EXIT' '(KG/S)' 'Total mass flow'\\n\",\n",
       " 8: \"HOL 'POSITION:' 'EXIT' '(-)' 'Holdup (liquid volume fraction)'\\n\",\n",
       " 9: \"PT 'POSITION:' 'EXIT' '(PA)' 'Pressure'\\n\",\n",
       " 10: \"QLT 'POSITION:' 'EXIT' '(M3/S)' 'Total liquid volume flow'\\n\",\n",
       " 11: \"TM 'POSITION:' 'EXIT' '(C)' 'Fluid temperature'\\n\",\n",
       " 12: \"UL 'POSITION:' 'EXIT' '(M/S)' 'Average liquid film velocity'\\n\",\n",
       " 20: \"HOL 'POSITION:' 'EXIT' '(-)' 'Holdup (liquid volume fraction)'\\n\",\n",
       " 28: \"HOLWT 'POSITION:' 'EXIT' '(-)' 'Water volume fraction'\\n\",\n",
       " 36: \"ID 'POSITION:' 'EXIT' '(-)' 'Flow regime: 1=Stratified, 2=Annular, 3=Slug, 4=Bubble.'\\n\",\n",
       " 44: \"PT 'POSITION:' 'EXIT' '(PA)' 'Pressure'\\n\",\n",
       " 52: \"Q2 'POSITION:' 'EXIT' '(W/M2-C)' 'Overall heat transfer coefficient'\\n\",\n",
       " 60: \"TM 'POSITION:' 'EXIT' '(C)' 'Fluid temperature'\\n\",\n",
       " 68: \"TU 'POSITION:' 'EXIT' '(C)' 'Ambient temperature'\\n\",\n",
       " 76: \"TWS 'POSITION:' 'EXIT' '(C)' 'Inner wall surface temperature'\\n\",\n",
       " 84: \"QGST 'POSITION:' 'EXIT' '(SM3/S)' 'Gas volume flow at standard conditions'\\n\",\n",
       " 92: \"QOST 'POSITION:' 'EXIT' '(SM3/S)' 'Oil volume flow at standard conditions'\\n\",\n",
       " 100: \"QWST 'POSITION:' 'EXIT' '(SM3/S)' 'Water volume flow at standard conditions'\\n\",\n",
       " 108: \"AL 'POSITION:' 'EXIT' '(-)' 'Void (gas volume fraction)'\\n\",\n",
       " 116: \"GG 'POSITION:' 'EXIT' '(KG/S)' 'Gas mass flow'\\n\",\n",
       " 124: \"GLT 'POSITION:' 'EXIT' '(KG/S)' 'Total liquid mass flow'\\n\",\n",
       " 132: \"GT 'POSITION:' 'EXIT' '(KG/S)' 'Total mass flow'\\n\",\n",
       " 140: \"DTHYD 'POSITION:' 'EXIT' '(C)' 'Difference between hydrate and section temperature'\\n\"}"
      ]
     },
     "execution_count": 4,
     "metadata": {},
     "output_type": "execute_result"
    }
   ],
   "source": [
    "tpl.filter_data(\"'POSITION:' 'EXIT'\")"
   ]
  },
  {
   "cell_type": "markdown",
   "metadata": {
    "hide_input": true
   },
   "source": [
    "The same outpout can be reported as a pandas dataframe:"
   ]
  },
  {
   "cell_type": "code",
   "execution_count": 5,
   "metadata": {},
   "outputs": [
    {
     "data": {
      "text/html": [
       "<div>\n",
       "<style scoped>\n",
       "    .dataframe tbody tr th:only-of-type {\n",
       "        vertical-align: middle;\n",
       "    }\n",
       "\n",
       "    .dataframe tbody tr th {\n",
       "        vertical-align: top;\n",
       "    }\n",
       "\n",
       "    .dataframe thead th {\n",
       "        text-align: right;\n",
       "    }\n",
       "</style>\n",
       "<table border=\"1\" class=\"dataframe\">\n",
       "  <thead>\n",
       "    <tr style=\"text-align: right;\">\n",
       "      <th></th>\n",
       "      <th>Trends</th>\n",
       "    </tr>\n",
       "  </thead>\n",
       "  <tbody>\n",
       "    <tr>\n",
       "      <th>9</th>\n",
       "      <td>PT 'POSITION:' 'EXIT' '(PA)' 'Pressure'\\n</td>\n",
       "    </tr>\n",
       "    <tr>\n",
       "      <th>37</th>\n",
       "      <td>PT 'POSITION:' 'BOTTOMHOLE' '(PA)' 'Pressure'\\n</td>\n",
       "    </tr>\n",
       "    <tr>\n",
       "      <th>38</th>\n",
       "      <td>PT 'POSITION:' 'TUBINGHEAD' '(PA)' 'Pressure'\\n</td>\n",
       "    </tr>\n",
       "    <tr>\n",
       "      <th>39</th>\n",
       "      <td>PT 'POSITION:' 'DC6' '(PA)' 'Pressure'\\n</td>\n",
       "    </tr>\n",
       "    <tr>\n",
       "      <th>40</th>\n",
       "      <td>PT 'POSITION:' 'DC7' '(PA)' 'Pressure'\\n</td>\n",
       "    </tr>\n",
       "    <tr>\n",
       "      <th>41</th>\n",
       "      <td>PT 'POSITION:' 'DC8' '(PA)' 'Pressure'\\n</td>\n",
       "    </tr>\n",
       "    <tr>\n",
       "      <th>42</th>\n",
       "      <td>PT 'POSITION:' 'DC9' '(PA)' 'Pressure'\\n</td>\n",
       "    </tr>\n",
       "    <tr>\n",
       "      <th>43</th>\n",
       "      <td>PT 'POSITION:' 'RBM' '(PA)' 'Pressure'\\n</td>\n",
       "    </tr>\n",
       "    <tr>\n",
       "      <th>44</th>\n",
       "      <td>PT 'POSITION:' 'EXIT' '(PA)' 'Pressure'\\n</td>\n",
       "    </tr>\n",
       "  </tbody>\n",
       "</table>\n",
       "</div>"
      ],
      "text/plain": [
       "                                             Trends\n",
       "9         PT 'POSITION:' 'EXIT' '(PA)' 'Pressure'\\n\n",
       "37  PT 'POSITION:' 'BOTTOMHOLE' '(PA)' 'Pressure'\\n\n",
       "38  PT 'POSITION:' 'TUBINGHEAD' '(PA)' 'Pressure'\\n\n",
       "39         PT 'POSITION:' 'DC6' '(PA)' 'Pressure'\\n\n",
       "40         PT 'POSITION:' 'DC7' '(PA)' 'Pressure'\\n\n",
       "41         PT 'POSITION:' 'DC8' '(PA)' 'Pressure'\\n\n",
       "42         PT 'POSITION:' 'DC9' '(PA)' 'Pressure'\\n\n",
       "43         PT 'POSITION:' 'RBM' '(PA)' 'Pressure'\\n\n",
       "44        PT 'POSITION:' 'EXIT' '(PA)' 'Pressure'\\n"
      ]
     },
     "execution_count": 5,
     "metadata": {},
     "output_type": "execute_result"
    }
   ],
   "source": [
    "pd.DataFrame(tpl.filter_data('PT'), index=(\"Trends\",)).T"
   ]
  },
  {
   "cell_type": "markdown",
   "metadata": {},
   "source": [
    "The `view_trends` method provides the same info better arranged:"
   ]
  },
  {
   "cell_type": "code",
   "execution_count": 18,
   "metadata": {},
   "outputs": [
    {
     "data": {
      "text/html": [
       "<div>\n",
       "<style scoped>\n",
       "    .dataframe tbody tr th:only-of-type {\n",
       "        vertical-align: middle;\n",
       "    }\n",
       "\n",
       "    .dataframe tbody tr th {\n",
       "        vertical-align: top;\n",
       "    }\n",
       "\n",
       "    .dataframe thead th {\n",
       "        text-align: right;\n",
       "    }\n",
       "</style>\n",
       "<table border=\"1\" class=\"dataframe\">\n",
       "  <thead>\n",
       "    <tr style=\"text-align: right;\">\n",
       "      <th></th>\n",
       "      <th>Index</th>\n",
       "      <th>Variable</th>\n",
       "      <th>Position</th>\n",
       "      <th>Unit</th>\n",
       "      <th>Description</th>\n",
       "    </tr>\n",
       "    <tr>\n",
       "      <th>Filter: PT</th>\n",
       "      <th></th>\n",
       "      <th></th>\n",
       "      <th></th>\n",
       "      <th></th>\n",
       "      <th></th>\n",
       "    </tr>\n",
       "  </thead>\n",
       "  <tbody>\n",
       "    <tr>\n",
       "      <th>0</th>\n",
       "      <td>37</td>\n",
       "      <td>PT</td>\n",
       "      <td>POSITION - BOTTOMHOLE</td>\n",
       "      <td>PA</td>\n",
       "      <td>Pressure</td>\n",
       "    </tr>\n",
       "    <tr>\n",
       "      <th>1</th>\n",
       "      <td>38</td>\n",
       "      <td>PT</td>\n",
       "      <td>POSITION - TUBINGHEAD</td>\n",
       "      <td>PA</td>\n",
       "      <td>Pressure</td>\n",
       "    </tr>\n",
       "    <tr>\n",
       "      <th>2</th>\n",
       "      <td>39</td>\n",
       "      <td>PT</td>\n",
       "      <td>POSITION - DC6</td>\n",
       "      <td>PA</td>\n",
       "      <td>Pressure</td>\n",
       "    </tr>\n",
       "    <tr>\n",
       "      <th>3</th>\n",
       "      <td>40</td>\n",
       "      <td>PT</td>\n",
       "      <td>POSITION - DC7</td>\n",
       "      <td>PA</td>\n",
       "      <td>Pressure</td>\n",
       "    </tr>\n",
       "    <tr>\n",
       "      <th>4</th>\n",
       "      <td>9</td>\n",
       "      <td>PT</td>\n",
       "      <td>POSITION - EXIT</td>\n",
       "      <td>PA</td>\n",
       "      <td>Pressure</td>\n",
       "    </tr>\n",
       "    <tr>\n",
       "      <th>5</th>\n",
       "      <td>41</td>\n",
       "      <td>PT</td>\n",
       "      <td>POSITION - DC8</td>\n",
       "      <td>PA</td>\n",
       "      <td>Pressure</td>\n",
       "    </tr>\n",
       "    <tr>\n",
       "      <th>6</th>\n",
       "      <td>43</td>\n",
       "      <td>PT</td>\n",
       "      <td>POSITION - RBM</td>\n",
       "      <td>PA</td>\n",
       "      <td>Pressure</td>\n",
       "    </tr>\n",
       "    <tr>\n",
       "      <th>7</th>\n",
       "      <td>44</td>\n",
       "      <td>PT</td>\n",
       "      <td>POSITION - EXIT</td>\n",
       "      <td>PA</td>\n",
       "      <td>Pressure</td>\n",
       "    </tr>\n",
       "    <tr>\n",
       "      <th>8</th>\n",
       "      <td>42</td>\n",
       "      <td>PT</td>\n",
       "      <td>POSITION - DC9</td>\n",
       "      <td>PA</td>\n",
       "      <td>Pressure</td>\n",
       "    </tr>\n",
       "  </tbody>\n",
       "</table>\n",
       "</div>"
      ],
      "text/plain": [
       "            Index Variable               Position Unit Description\n",
       "Filter: PT                                                        \n",
       "0              37       PT  POSITION - BOTTOMHOLE   PA    Pressure\n",
       "1              38       PT  POSITION - TUBINGHEAD   PA    Pressure\n",
       "2              39       PT         POSITION - DC6   PA    Pressure\n",
       "3              40       PT         POSITION - DC7   PA    Pressure\n",
       "4               9       PT        POSITION - EXIT   PA    Pressure\n",
       "5              41       PT         POSITION - DC8   PA    Pressure\n",
       "6              43       PT         POSITION - RBM   PA    Pressure\n",
       "7              44       PT        POSITION - EXIT   PA    Pressure\n",
       "8              42       PT         POSITION - DC9   PA    Pressure"
      ]
     },
     "execution_count": 18,
     "metadata": {},
     "output_type": "execute_result"
    }
   ],
   "source": [
    "tpl.view_trends('PT')"
   ]
  },
  {
   "cell_type": "markdown",
   "metadata": {},
   "source": [
    "---"
   ]
  },
  {
   "cell_type": "markdown",
   "metadata": {},
   "source": [
    "### Dump to excel"
   ]
  },
  {
   "cell_type": "markdown",
   "metadata": {},
   "source": [
    "To dump all the variables in an excel file use `tpl.to_excel()`\n",
    "If no path is provided an excel file with the same name of the tpl file is generated in the working folder. Depending on the tpl size this may take a while."
   ]
  },
  {
   "cell_type": "markdown",
   "metadata": {},
   "source": [
    "### Extract a specific variable"
   ]
  },
  {
   "cell_type": "markdown",
   "metadata": {},
   "source": [
    "Once you know the variable(s) index you are interested in (see the filtering paragraph above for more info) you can extract it (or them) and use the data directly in python."
   ]
  },
  {
   "cell_type": "markdown",
   "metadata": {},
   "source": [
    "Let's assume you are interested in the inlet pressure and the outlet temperature:"
   ]
  },
  {
   "cell_type": "code",
   "execution_count": 17,
   "metadata": {},
   "outputs": [
    {
     "data": {
      "text/html": [
       "<div>\n",
       "<style scoped>\n",
       "    .dataframe tbody tr th:only-of-type {\n",
       "        vertical-align: middle;\n",
       "    }\n",
       "\n",
       "    .dataframe tbody tr th {\n",
       "        vertical-align: top;\n",
       "    }\n",
       "\n",
       "    .dataframe thead th {\n",
       "        text-align: right;\n",
       "    }\n",
       "</style>\n",
       "<table border=\"1\" class=\"dataframe\">\n",
       "  <thead>\n",
       "    <tr style=\"text-align: right;\">\n",
       "      <th></th>\n",
       "      <th>Index</th>\n",
       "      <th>Variable</th>\n",
       "      <th>Position</th>\n",
       "      <th>Unit</th>\n",
       "      <th>Description</th>\n",
       "    </tr>\n",
       "    <tr>\n",
       "      <th>Filter: TM</th>\n",
       "      <th></th>\n",
       "      <th></th>\n",
       "      <th></th>\n",
       "      <th></th>\n",
       "      <th></th>\n",
       "    </tr>\n",
       "  </thead>\n",
       "  <tbody>\n",
       "    <tr>\n",
       "      <th>0</th>\n",
       "      <td>59</td>\n",
       "      <td>TM</td>\n",
       "      <td>POSITION - RBM</td>\n",
       "      <td>C</td>\n",
       "      <td>Fluid temperature</td>\n",
       "    </tr>\n",
       "    <tr>\n",
       "      <th>1</th>\n",
       "      <td>53</td>\n",
       "      <td>TM</td>\n",
       "      <td>POSITION - BOTTOMHOLE</td>\n",
       "      <td>C</td>\n",
       "      <td>Fluid temperature</td>\n",
       "    </tr>\n",
       "    <tr>\n",
       "      <th>2</th>\n",
       "      <td>54</td>\n",
       "      <td>TM</td>\n",
       "      <td>POSITION - TUBINGHEAD</td>\n",
       "      <td>C</td>\n",
       "      <td>Fluid temperature</td>\n",
       "    </tr>\n",
       "    <tr>\n",
       "      <th>3</th>\n",
       "      <td>55</td>\n",
       "      <td>TM</td>\n",
       "      <td>POSITION - DC6</td>\n",
       "      <td>C</td>\n",
       "      <td>Fluid temperature</td>\n",
       "    </tr>\n",
       "    <tr>\n",
       "      <th>4</th>\n",
       "      <td>56</td>\n",
       "      <td>TM</td>\n",
       "      <td>POSITION - DC7</td>\n",
       "      <td>C</td>\n",
       "      <td>Fluid temperature</td>\n",
       "    </tr>\n",
       "    <tr>\n",
       "      <th>5</th>\n",
       "      <td>57</td>\n",
       "      <td>TM</td>\n",
       "      <td>POSITION - DC8</td>\n",
       "      <td>C</td>\n",
       "      <td>Fluid temperature</td>\n",
       "    </tr>\n",
       "    <tr>\n",
       "      <th>6</th>\n",
       "      <td>58</td>\n",
       "      <td>TM</td>\n",
       "      <td>POSITION - DC9</td>\n",
       "      <td>C</td>\n",
       "      <td>Fluid temperature</td>\n",
       "    </tr>\n",
       "    <tr>\n",
       "      <th>7</th>\n",
       "      <td>11</td>\n",
       "      <td>TM</td>\n",
       "      <td>POSITION - EXIT</td>\n",
       "      <td>C</td>\n",
       "      <td>Fluid temperature</td>\n",
       "    </tr>\n",
       "    <tr>\n",
       "      <th>8</th>\n",
       "      <td>60</td>\n",
       "      <td>TM</td>\n",
       "      <td>POSITION - EXIT</td>\n",
       "      <td>C</td>\n",
       "      <td>Fluid temperature</td>\n",
       "    </tr>\n",
       "  </tbody>\n",
       "</table>\n",
       "</div>"
      ],
      "text/plain": [
       "            Index Variable               Position Unit        Description\n",
       "Filter: TM                                                               \n",
       "0              59       TM         POSITION - RBM    C  Fluid temperature\n",
       "1              53       TM  POSITION - BOTTOMHOLE    C  Fluid temperature\n",
       "2              54       TM  POSITION - TUBINGHEAD    C  Fluid temperature\n",
       "3              55       TM         POSITION - DC6    C  Fluid temperature\n",
       "4              56       TM         POSITION - DC7    C  Fluid temperature\n",
       "5              57       TM         POSITION - DC8    C  Fluid temperature\n",
       "6              58       TM         POSITION - DC9    C  Fluid temperature\n",
       "7              11       TM        POSITION - EXIT    C  Fluid temperature\n",
       "8              60       TM        POSITION - EXIT    C  Fluid temperature"
      ]
     },
     "execution_count": 17,
     "metadata": {},
     "output_type": "execute_result"
    }
   ],
   "source": [
    "tpl.view_trends('TM')"
   ]
  },
  {
   "cell_type": "code",
   "execution_count": 14,
   "metadata": {},
   "outputs": [
    {
     "data": {
      "text/html": [
       "<div>\n",
       "<style scoped>\n",
       "    .dataframe tbody tr th:only-of-type {\n",
       "        vertical-align: middle;\n",
       "    }\n",
       "\n",
       "    .dataframe tbody tr th {\n",
       "        vertical-align: top;\n",
       "    }\n",
       "\n",
       "    .dataframe thead th {\n",
       "        text-align: right;\n",
       "    }\n",
       "</style>\n",
       "<table border=\"1\" class=\"dataframe\">\n",
       "  <thead>\n",
       "    <tr style=\"text-align: right;\">\n",
       "      <th></th>\n",
       "      <th>Index</th>\n",
       "      <th>Variable</th>\n",
       "      <th>Position</th>\n",
       "      <th>Unit</th>\n",
       "      <th>Description</th>\n",
       "    </tr>\n",
       "    <tr>\n",
       "      <th>Filter: PT</th>\n",
       "      <th></th>\n",
       "      <th></th>\n",
       "      <th></th>\n",
       "      <th></th>\n",
       "      <th></th>\n",
       "    </tr>\n",
       "  </thead>\n",
       "  <tbody>\n",
       "    <tr>\n",
       "      <th>0</th>\n",
       "      <td>37</td>\n",
       "      <td>PT</td>\n",
       "      <td>POSITION - BOTTOMHOLE</td>\n",
       "      <td>PA</td>\n",
       "      <td>Pressure</td>\n",
       "    </tr>\n",
       "    <tr>\n",
       "      <th>1</th>\n",
       "      <td>38</td>\n",
       "      <td>PT</td>\n",
       "      <td>POSITION - TUBINGHEAD</td>\n",
       "      <td>PA</td>\n",
       "      <td>Pressure</td>\n",
       "    </tr>\n",
       "    <tr>\n",
       "      <th>2</th>\n",
       "      <td>39</td>\n",
       "      <td>PT</td>\n",
       "      <td>POSITION - DC6</td>\n",
       "      <td>PA</td>\n",
       "      <td>Pressure</td>\n",
       "    </tr>\n",
       "    <tr>\n",
       "      <th>3</th>\n",
       "      <td>40</td>\n",
       "      <td>PT</td>\n",
       "      <td>POSITION - DC7</td>\n",
       "      <td>PA</td>\n",
       "      <td>Pressure</td>\n",
       "    </tr>\n",
       "    <tr>\n",
       "      <th>4</th>\n",
       "      <td>9</td>\n",
       "      <td>PT</td>\n",
       "      <td>POSITION - EXIT</td>\n",
       "      <td>PA</td>\n",
       "      <td>Pressure</td>\n",
       "    </tr>\n",
       "    <tr>\n",
       "      <th>5</th>\n",
       "      <td>41</td>\n",
       "      <td>PT</td>\n",
       "      <td>POSITION - DC8</td>\n",
       "      <td>PA</td>\n",
       "      <td>Pressure</td>\n",
       "    </tr>\n",
       "    <tr>\n",
       "      <th>6</th>\n",
       "      <td>43</td>\n",
       "      <td>PT</td>\n",
       "      <td>POSITION - RBM</td>\n",
       "      <td>PA</td>\n",
       "      <td>Pressure</td>\n",
       "    </tr>\n",
       "    <tr>\n",
       "      <th>7</th>\n",
       "      <td>44</td>\n",
       "      <td>PT</td>\n",
       "      <td>POSITION - EXIT</td>\n",
       "      <td>PA</td>\n",
       "      <td>Pressure</td>\n",
       "    </tr>\n",
       "    <tr>\n",
       "      <th>8</th>\n",
       "      <td>42</td>\n",
       "      <td>PT</td>\n",
       "      <td>POSITION - DC9</td>\n",
       "      <td>PA</td>\n",
       "      <td>Pressure</td>\n",
       "    </tr>\n",
       "  </tbody>\n",
       "</table>\n",
       "</div>"
      ],
      "text/plain": [
       "            Index Variable               Position Unit Description\n",
       "Filter: PT                                                        \n",
       "0              37       PT  POSITION - BOTTOMHOLE   PA    Pressure\n",
       "1              38       PT  POSITION - TUBINGHEAD   PA    Pressure\n",
       "2              39       PT         POSITION - DC6   PA    Pressure\n",
       "3              40       PT         POSITION - DC7   PA    Pressure\n",
       "4               9       PT        POSITION - EXIT   PA    Pressure\n",
       "5              41       PT         POSITION - DC8   PA    Pressure\n",
       "6              43       PT         POSITION - RBM   PA    Pressure\n",
       "7              44       PT        POSITION - EXIT   PA    Pressure\n",
       "8              42       PT         POSITION - DC9   PA    Pressure"
      ]
     },
     "execution_count": 14,
     "metadata": {},
     "output_type": "execute_result"
    }
   ],
   "source": [
    "tpl.view_trends('PT')"
   ]
  },
  {
   "cell_type": "markdown",
   "metadata": {},
   "source": [
    "Our targets are:\n",
    "\n",
    "<i>variable 11</i> - TM 'POSITION:' 'EXIT' '(C)' 'Fluid temperature'\n",
    "\n",
    "and  \n",
    "\n",
    "<i>variable 38</i> - PT 'POSITION:' 'TUBINGHEAD' '(PA)' 'Pressure'\\"
   ]
  },
  {
   "cell_type": "markdown",
   "metadata": {},
   "source": [
    "Now we can proceed with the data extraction:"
   ]
  },
  {
   "cell_type": "code",
   "execution_count": 8,
   "metadata": {
    "collapsed": true
   },
   "outputs": [],
   "source": [
    "# single trend extraction\n",
    "tpl.extract(11)\n",
    "tpl.extract(38)\n",
    "\n",
    "# multiple trends extraction\n",
    "tpl.extract(12, 37)"
   ]
  },
  {
   "cell_type": "markdown",
   "metadata": {},
   "source": [
    "The tpl object now has the four trends available in the `data` attribute:"
   ]
  },
  {
   "cell_type": "code",
   "execution_count": 11,
   "metadata": {},
   "outputs": [
    {
     "data": {
      "text/plain": [
       "dict_keys([11, 12, 37, 38])"
      ]
     },
     "execution_count": 11,
     "metadata": {},
     "output_type": "execute_result"
    }
   ],
   "source": [
    "tpl.data.keys()"
   ]
  },
  {
   "cell_type": "markdown",
   "metadata": {},
   "source": [
    "while the *label* attibute stores the variable type as a dictionary:"
   ]
  },
  {
   "cell_type": "code",
   "execution_count": 15,
   "metadata": {},
   "outputs": [
    {
     "data": {
      "text/plain": [
       "{11: 'TM POSITION: EXIT (C) Fluid temperature',\n",
       " 12: 'UL POSITION: EXIT (M/S) Average liquid film velocity',\n",
       " 37: 'PT POSITION: BOTTOMHOLE (PA) Pressure',\n",
       " 38: 'PT POSITION: TUBINGHEAD (PA) Pressure'}"
      ]
     },
     "execution_count": 15,
     "metadata": {},
     "output_type": "execute_result"
    }
   ],
   "source": [
    "tpl.label"
   ]
  },
  {
   "cell_type": "markdown",
   "metadata": {},
   "source": [
    "### Data processing"
   ]
  },
  {
   "cell_type": "markdown",
   "metadata": {},
   "source": [
    "The results available in the data attribute are numpy arrays and can be easily manipulated and plotted:"
   ]
  },
  {
   "cell_type": "code",
   "execution_count": 49,
   "metadata": {},
   "outputs": [
    {
     "data": {
      "image/png": "[encoded data removed]",
      "text/plain": [
       "<matplotlib.figure.Figure at 0x7f56ac5785f8>"
      ]
     },
     "metadata": {},
     "output_type": "display_data"
    }
   ],
   "source": [
    "%matplotlib inline\n",
    "\n",
    "pt_inlet = tpl.data[38]\n",
    "tm_outlet = tpl.data[11]\n",
    "\n",
    "fig, ax1 = plt.subplots(figsize=(12, 7));\n",
    "ax1.grid(True)\n",
    "p0, = ax1.plot(tpl.time/3600, tm_outlet)\n",
    "ax1.set_ylabel(\"Outlet T [C]\", fontsize=16)\n",
    "ax1.set_xlabel(\"Time [h]\", fontsize=16)\n",
    "\n",
    "ax2 = ax1.twinx()\n",
    "p1, = ax2.plot(tpl.time/3600, pt_inlet/1e5, 'r')\n",
    "ax2.grid(False)\n",
    "ax2.set_ylabel(\"Inlet P [bara]\", fontsize=16)\n",
    "\n",
    "ax1.tick_params(axis=\"both\", labelsize=16)\n",
    "ax2.tick_params(axis=\"both\", labelsize=16)\n",
    "\n",
    "\n",
    "plt.legend((p0, p1), (\"Outlet T\", \"Inlet P\"), loc=4, fontsize=16)\n",
    "plt.title(\"Inlet P and Outlet T for case FC1\", size=20);"
   ]
  },
  {
   "cell_type": "markdown",
   "metadata": {},
   "source": [
    "### Advanced data processing"
   ]
  },
  {
   "cell_type": "markdown",
   "metadata": {},
   "source": [
    "An example of advanced data processing for Python enthusiasts and professional flow assurance. Script below extracts variable trends at given positions. Usage instructions:\n",
    "- For unit conversion multiplication factors for every variable can be provided.\n",
    "- Only few global variables and lists have to be defined (allMul, allVar, allPos, and myTPLFile), there is no need to edit functions, unless you understand what you are doing.\n",
    "- Extracted trends are written in to a CSV file \"OLGA_Simulation.tpl.csv\", where \"OLGA_Simulation.tpl\" is the simulation file.\n",
    "- The script does not perform error checks, make sure that all variables and positions are present in the simulation file."
   ]
  },
  {
   "cell_type": "code",
   "execution_count": null,
   "metadata": {},
   "outputs": [],
   "source": [
    "import os\n",
    "import sys\n",
    "import time\n",
    "import pyfas as fa\n",
    "\n",
    "\n",
    "def getVarsInds(tpl, emptyLst):\n",
    "\n",
    "\tfor _, pos in enumerate(allPos):\n",
    "\t\n",
    "\t\tlst = []\n",
    "\t\n",
    "\t\t# dictionary of the following kind:\n",
    "\t\t# {3: \"GLT 'POSITION:' 'EXIT' '(KG/S)' 'Total liquid mass flow'\\n\",\n",
    "\t\t#  4: \"GLTHL 'POSITION:' 'EXIT' '(KG/S)' 'Mass flow rate of oil'\\n\"}\n",
    "\t\tmyDic = tpl.filter_trends(\"'POSITION:' '{0}'\".format(pos))\n",
    "\t\n",
    "\t\tfor _, var in enumerate(allVar):\n",
    "\n",
    "\t\t\tfor _, (k, v) in enumerate(myDic.items()):\n",
    "\t\t\t\n",
    "\t\t\t\tlstStr = v.split(\" \")\n",
    "\t\t\t\t\n",
    "\t\t\t\tif lstStr[0] == var:\n",
    "\t\t\t\t\n",
    "\t\t\t\t\tlst.append(int(k))\n",
    "\t\t\n",
    "\t\temptyLst.append(lst)\n",
    "\n",
    "\n",
    "def getData(tplFileName, fullLst):\n",
    "\n",
    "\tmyFlag = False\n",
    "\t\n",
    "\tfout = open(\"{0}.csv\".format(tplFileName), 'w')\n",
    "\t\n",
    "\t# write header\n",
    "\toutLine = \"\"\n",
    "\tfor _, pos in enumerate(allPos):\n",
    "\t\tfor _, var in enumerate(allVar):\n",
    "\t\t\toutLine += \"{0},{1} {2},\".format( \"Time [H]\", pos, var )\n",
    "\t\n",
    "\tfout.writelines(\"{0}\\n\".format(outLine))\n",
    "\n",
    "\t# write data\n",
    "\twith open(tplFileName) as infile:\n",
    "\t\tfor line in infile:\n",
    "\t\t\t\n",
    "\t\t\tif myFlag:\n",
    "\t\t\t\t\n",
    "\t\t\t\tmyValList = line.split()\n",
    "\t\t\t\t\n",
    "\t\t\t\tmyTime = float(myValList[0]) / 3600.0 # in hours\n",
    "\t\t\t\t\n",
    "\t\t\t\toutLine = \"\"\n",
    "\t\t\t\t\n",
    "\t\t\t\tfor i in range(len(allPos)):\n",
    "\t\t\t\t\tfor j in range(len(allVar)):\n",
    "\t\t\t\t\t\toutLine += \"{0},{1},\".format( myTime, float(myValList[fullLst[i][j]]) * allMul[j] )\n",
    "\t\t\t\t\n",
    "\t\t\t\tfout.write(\"{0}\\n\".format(outLine))\n",
    "\t\t\t\n",
    "\t\t\telse:\n",
    "\t\t\t\n",
    "\t\t\t\tif line.find(\"TIME SERIES\") > -1: myFlag = True\n",
    "\n",
    "\tfout.close()\n",
    "\n",
    "\n",
    "def main():\n",
    "\n",
    "\tprint( \"{0} initialization\".format(time.strftime(\"%H:%M:%S\", time.localtime())) )\n",
    "\tfname = myTPLFile\n",
    "\ttpl = fa.Tpl(fname)\n",
    "\t\n",
    "\t# list of indices for vars at every position (separate list for every position in order)\n",
    "\tvarIndLst = []\n",
    "\t\n",
    "\tgetVarsInds(tpl, varIndLst)\n",
    "\t\n",
    "\tprint( \"{0} extraction\".format(time.strftime(\"%H:%M:%S\", time.localtime())) )\n",
    "\tgetData(fname, varIndLst)\n",
    "\tprint( \"{0} done\".format(time.strftime(\"%H:%M:%S\", time.localtime())) )\n",
    "\n",
    "\n",
    "# multiplication factors and variables\n",
    "allMul = [1.0, 1.0, 1.0e-5, 1.0]\n",
    "allVar = [\"ROL\", \"ROG\", \"PT\", \"TM\"]\n",
    "\n",
    "# positions\n",
    "allPos = [\"FLOWLINE_1KM\", \"FLOWLINE_2KM\", \"FLOWLINE_3KM\", \"FLOWLINE_4KM\", \"FLOWLINE_5KM\"]\n",
    "\n",
    "myTPLFile = \"OLGA_Simulation.tpl\"\n",
    "\n",
    "main()"
   ]
  }
 ],
 "metadata": {
  "hide_input": true,
  "kernelspec": {
   "display_name": "Python 3",
   "language": "python",
   "name": "python3"
  },
  "language_info": {
   "codemirror_mode": {
    "name": "ipython",
    "version": 3
   },
   "file_extension": ".py",
   "mimetype": "text/x-python",
   "name": "python",
   "nbconvert_exporter": "python",
   "pygments_lexer": "ipython3",
   "version": "3.8.8"
  },
  "toc": {
   "toc_cell": false,
   "toc_number_sections": true,
   "toc_threshold": 6,
   "toc_window_display": false
  }
 },
 "nbformat": 4,
 "nbformat_minor": 2
}
