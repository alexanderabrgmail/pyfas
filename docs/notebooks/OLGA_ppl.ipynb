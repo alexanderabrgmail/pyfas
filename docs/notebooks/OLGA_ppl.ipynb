{
 "cells": [
  {
   "cell_type": "code",
   "execution_count": 4,
   "metadata": {
    "collapsed": true,
    "init_cell": true
   },
   "outputs": [],
   "source": [
    "import pyfas as fa\n",
    "import pandas as pd\n",
    "import matplotlib.pyplot as plt\n",
    "pd.options.display.max_colwidth = 120"
   ]
  },
  {
   "cell_type": "markdown",
   "metadata": {},
   "source": [
    "# OLGA ppl files, examples and howto"
   ]
  },
  {
   "cell_type": "markdown",
   "metadata": {},
   "source": [
    "For an tpl file the following methods are available:\n",
    "\n",
    "* <b>filter_data</b> - return a filtered subset of trends\n",
    "* <b>extract</b> - extract a single trend variable\n",
    "* <b>to_excel</b> - dump all the data to an excel file\n",
    "\n",
    "The usual workflow should be:\n",
    "\n",
    "1. Load the correct tpl\n",
    "2. Select the desired variable(s)\n",
    "3. Extract the results or dump all the variables to an excel file\n",
    "4. Post-process your data in Excel or in the notebook itself"
   ]
  },
  {
   "cell_type": "markdown",
   "metadata": {},
   "source": [
    "## Ppl loading"
   ]
  },
  {
   "cell_type": "markdown",
   "metadata": {},
   "source": [
    "To load a specific tpl file the correct path and filename have to be provided:"
   ]
  },
  {
   "cell_type": "code",
   "execution_count": 5,
   "metadata": {},
   "outputs": [],
   "source": [
    "ppl_path = '../../pyfas/test/test_files/'\n",
    "fname = 'FC1_rev01.ppl'\n",
    "ppl = fa.Ppl(ppl_path+fname)"
   ]
  },
  {
   "cell_type": "markdown",
   "metadata": {},
   "source": [
    "### Profile selection"
   ]
  },
  {
   "cell_type": "markdown",
   "metadata": {},
   "source": [
    "As for tpl files, a ppl file may contain hundreds of profiles, in particular for complex networks. For this reason a filtering method is quite useful.  \n",
    "The easiest way is to filter on all the profiles using patters, the command `ppl.filter_trends(\"PT\")` filters all the pressure profiless (or better, all the profiles with \"PT\" in the description, if you have defined a temperature profile in the position \"PTTOPSIDE\", for example, this profile will be selected too).\n",
    "The resulting python dictionaly will have a unique index for each filtered profile that can be used to identify the interesting profile(s).\n",
    "In case of an emply pattern all the available profiles will be reported."
   ]
  },
  {
   "cell_type": "code",
   "execution_count": 6,
   "metadata": {},
   "outputs": [
    {
     "data": {
      "text/plain": [
       "{4: \"PT 'SECTION:' 'BRANCH:' 'old_offshore' '(PA)' 'Pressure'\\n\",\n",
       " 12: \"PT 'SECTION:' 'BRANCH:' 'riser' '(PA)' 'Pressure'\\n\",\n",
       " 20: \"PT 'SECTION:' 'BRANCH:' 'new_offshore' '(PA)' 'Pressure'\\n\",\n",
       " 28: \"PT 'SECTION:' 'BRANCH:' 'to_vent' '(PA)' 'Pressure'\\n\",\n",
       " 36: \"PT 'SECTION:' 'BRANCH:' 'dry' '(PA)' 'Pressure'\\n\",\n",
       " 44: \"PT 'SECTION:' 'BRANCH:' 'tiein_spool' '(PA)' 'Pressure'\\n\"}"
      ]
     },
     "execution_count": 6,
     "metadata": {},
     "output_type": "execute_result"
    }
   ],
   "source": [
    "ppl.filter_data('PT')"
   ]
  },
  {
   "cell_type": "markdown",
   "metadata": {
    "hide_input": true
   },
   "source": [
    "The same outpout can be reported as a pandas dataframe:"
   ]
  },
  {
   "cell_type": "code",
   "execution_count": 7,
   "metadata": {},
   "outputs": [
    {
     "data": {
      "text/html": [
       "<div>\n",
       "<style scoped>\n",
       "    .dataframe tbody tr th:only-of-type {\n",
       "        vertical-align: middle;\n",
       "    }\n",
       "\n",
       "    .dataframe tbody tr th {\n",
       "        vertical-align: top;\n",
       "    }\n",
       "\n",
       "    .dataframe thead th {\n",
       "        text-align: right;\n",
       "    }\n",
       "</style>\n",
       "<table border=\"1\" class=\"dataframe\">\n",
       "  <thead>\n",
       "    <tr style=\"text-align: right;\">\n",
       "      <th></th>\n",
       "      <th>Profiles</th>\n",
       "    </tr>\n",
       "  </thead>\n",
       "  <tbody>\n",
       "    <tr>\n",
       "      <th>4</th>\n",
       "      <td>PT 'SECTION:' 'BRANCH:' 'old_offshore' '(PA)' 'Pressure'\\n</td>\n",
       "    </tr>\n",
       "    <tr>\n",
       "      <th>12</th>\n",
       "      <td>PT 'SECTION:' 'BRANCH:' 'riser' '(PA)' 'Pressure'\\n</td>\n",
       "    </tr>\n",
       "    <tr>\n",
       "      <th>20</th>\n",
       "      <td>PT 'SECTION:' 'BRANCH:' 'new_offshore' '(PA)' 'Pressure'\\n</td>\n",
       "    </tr>\n",
       "    <tr>\n",
       "      <th>28</th>\n",
       "      <td>PT 'SECTION:' 'BRANCH:' 'to_vent' '(PA)' 'Pressure'\\n</td>\n",
       "    </tr>\n",
       "    <tr>\n",
       "      <th>36</th>\n",
       "      <td>PT 'SECTION:' 'BRANCH:' 'dry' '(PA)' 'Pressure'\\n</td>\n",
       "    </tr>\n",
       "    <tr>\n",
       "      <th>44</th>\n",
       "      <td>PT 'SECTION:' 'BRANCH:' 'tiein_spool' '(PA)' 'Pressure'\\n</td>\n",
       "    </tr>\n",
       "  </tbody>\n",
       "</table>\n",
       "</div>"
      ],
      "text/plain": [
       "                                                      Profiles\n",
       "4   PT 'SECTION:' 'BRANCH:' 'old_offshore' '(PA)' 'Pressure'\\n\n",
       "12         PT 'SECTION:' 'BRANCH:' 'riser' '(PA)' 'Pressure'\\n\n",
       "20  PT 'SECTION:' 'BRANCH:' 'new_offshore' '(PA)' 'Pressure'\\n\n",
       "28       PT 'SECTION:' 'BRANCH:' 'to_vent' '(PA)' 'Pressure'\\n\n",
       "36           PT 'SECTION:' 'BRANCH:' 'dry' '(PA)' 'Pressure'\\n\n",
       "44   PT 'SECTION:' 'BRANCH:' 'tiein_spool' '(PA)' 'Pressure'\\n"
      ]
     },
     "execution_count": 7,
     "metadata": {},
     "output_type": "execute_result"
    }
   ],
   "source": [
    "pd.DataFrame(ppl.filter_data('PT'), index=(\"Profiles\",)).T"
   ]
  },
  {
   "cell_type": "markdown",
   "metadata": {},
   "source": [
    "---"
   ]
  },
  {
   "cell_type": "markdown",
   "metadata": {},
   "source": [
    "### Dump to excel"
   ]
  },
  {
   "cell_type": "markdown",
   "metadata": {},
   "source": [
    "To dump all the variables in an excel file use `ppl.to_excel()`\n",
    "If no path is provided an excel file with the same name of the tpl file is generated in the working folder. Depending on the tpl size this may take a while."
   ]
  },
  {
   "cell_type": "markdown",
   "metadata": {},
   "source": [
    "### Extract a specific variable"
   ]
  },
  {
   "cell_type": "markdown",
   "metadata": {},
   "source": [
    "Once you know the variable(s) index you are interested in (see the filtering paragraph above for more info) you can extract it (or them) and use the data directly in python."
   ]
  },
  {
   "cell_type": "markdown",
   "metadata": {},
   "source": [
    "Let's assume you are interested in the pressure and the temperature profile of the branch `riser`:"
   ]
  },
  {
   "cell_type": "code",
   "execution_count": 8,
   "metadata": {},
   "outputs": [
    {
     "data": {
      "text/html": [
       "<div>\n",
       "<style scoped>\n",
       "    .dataframe tbody tr th:only-of-type {\n",
       "        vertical-align: middle;\n",
       "    }\n",
       "\n",
       "    .dataframe tbody tr th {\n",
       "        vertical-align: top;\n",
       "    }\n",
       "\n",
       "    .dataframe thead th {\n",
       "        text-align: right;\n",
       "    }\n",
       "</style>\n",
       "<table border=\"1\" class=\"dataframe\">\n",
       "  <thead>\n",
       "    <tr style=\"text-align: right;\">\n",
       "      <th></th>\n",
       "      <th>Profiles</th>\n",
       "    </tr>\n",
       "  </thead>\n",
       "  <tbody>\n",
       "    <tr>\n",
       "      <th>5</th>\n",
       "      <td>TM 'SECTION:' 'BRANCH:' 'old_offshore' '(C)' 'Fluid temperature'\\n</td>\n",
       "    </tr>\n",
       "    <tr>\n",
       "      <th>13</th>\n",
       "      <td>TM 'SECTION:' 'BRANCH:' 'riser' '(C)' 'Fluid temperature'\\n</td>\n",
       "    </tr>\n",
       "    <tr>\n",
       "      <th>21</th>\n",
       "      <td>TM 'SECTION:' 'BRANCH:' 'new_offshore' '(C)' 'Fluid temperature'\\n</td>\n",
       "    </tr>\n",
       "    <tr>\n",
       "      <th>29</th>\n",
       "      <td>TM 'SECTION:' 'BRANCH:' 'to_vent' '(C)' 'Fluid temperature'\\n</td>\n",
       "    </tr>\n",
       "    <tr>\n",
       "      <th>37</th>\n",
       "      <td>TM 'SECTION:' 'BRANCH:' 'dry' '(C)' 'Fluid temperature'\\n</td>\n",
       "    </tr>\n",
       "    <tr>\n",
       "      <th>45</th>\n",
       "      <td>TM 'SECTION:' 'BRANCH:' 'tiein_spool' '(C)' 'Fluid temperature'\\n</td>\n",
       "    </tr>\n",
       "  </tbody>\n",
       "</table>\n",
       "</div>"
      ],
      "text/plain": [
       "                                                              Profiles\n",
       "5   TM 'SECTION:' 'BRANCH:' 'old_offshore' '(C)' 'Fluid temperature'\\n\n",
       "13         TM 'SECTION:' 'BRANCH:' 'riser' '(C)' 'Fluid temperature'\\n\n",
       "21  TM 'SECTION:' 'BRANCH:' 'new_offshore' '(C)' 'Fluid temperature'\\n\n",
       "29       TM 'SECTION:' 'BRANCH:' 'to_vent' '(C)' 'Fluid temperature'\\n\n",
       "37           TM 'SECTION:' 'BRANCH:' 'dry' '(C)' 'Fluid temperature'\\n\n",
       "45   TM 'SECTION:' 'BRANCH:' 'tiein_spool' '(C)' 'Fluid temperature'\\n"
      ]
     },
     "execution_count": 8,
     "metadata": {},
     "output_type": "execute_result"
    }
   ],
   "source": [
    "pd.DataFrame(ppl.filter_data(\"TM\"), index=(\"Profiles\",)).T"
   ]
  },
  {
   "cell_type": "code",
   "execution_count": 9,
   "metadata": {},
   "outputs": [
    {
     "data": {
      "text/html": [
       "<div>\n",
       "<style scoped>\n",
       "    .dataframe tbody tr th:only-of-type {\n",
       "        vertical-align: middle;\n",
       "    }\n",
       "\n",
       "    .dataframe tbody tr th {\n",
       "        vertical-align: top;\n",
       "    }\n",
       "\n",
       "    .dataframe thead th {\n",
       "        text-align: right;\n",
       "    }\n",
       "</style>\n",
       "<table border=\"1\" class=\"dataframe\">\n",
       "  <thead>\n",
       "    <tr style=\"text-align: right;\">\n",
       "      <th></th>\n",
       "      <th>Profiles</th>\n",
       "    </tr>\n",
       "  </thead>\n",
       "  <tbody>\n",
       "    <tr>\n",
       "      <th>4</th>\n",
       "      <td>PT 'SECTION:' 'BRANCH:' 'old_offshore' '(PA)' 'Pressure'\\n</td>\n",
       "    </tr>\n",
       "    <tr>\n",
       "      <th>12</th>\n",
       "      <td>PT 'SECTION:' 'BRANCH:' 'riser' '(PA)' 'Pressure'\\n</td>\n",
       "    </tr>\n",
       "    <tr>\n",
       "      <th>20</th>\n",
       "      <td>PT 'SECTION:' 'BRANCH:' 'new_offshore' '(PA)' 'Pressure'\\n</td>\n",
       "    </tr>\n",
       "    <tr>\n",
       "      <th>28</th>\n",
       "      <td>PT 'SECTION:' 'BRANCH:' 'to_vent' '(PA)' 'Pressure'\\n</td>\n",
       "    </tr>\n",
       "    <tr>\n",
       "      <th>36</th>\n",
       "      <td>PT 'SECTION:' 'BRANCH:' 'dry' '(PA)' 'Pressure'\\n</td>\n",
       "    </tr>\n",
       "    <tr>\n",
       "      <th>44</th>\n",
       "      <td>PT 'SECTION:' 'BRANCH:' 'tiein_spool' '(PA)' 'Pressure'\\n</td>\n",
       "    </tr>\n",
       "  </tbody>\n",
       "</table>\n",
       "</div>"
      ],
      "text/plain": [
       "                                                      Profiles\n",
       "4   PT 'SECTION:' 'BRANCH:' 'old_offshore' '(PA)' 'Pressure'\\n\n",
       "12         PT 'SECTION:' 'BRANCH:' 'riser' '(PA)' 'Pressure'\\n\n",
       "20  PT 'SECTION:' 'BRANCH:' 'new_offshore' '(PA)' 'Pressure'\\n\n",
       "28       PT 'SECTION:' 'BRANCH:' 'to_vent' '(PA)' 'Pressure'\\n\n",
       "36           PT 'SECTION:' 'BRANCH:' 'dry' '(PA)' 'Pressure'\\n\n",
       "44   PT 'SECTION:' 'BRANCH:' 'tiein_spool' '(PA)' 'Pressure'\\n"
      ]
     },
     "execution_count": 9,
     "metadata": {},
     "output_type": "execute_result"
    }
   ],
   "source": [
    "pd.DataFrame(ppl.filter_data(\"PT\"), index=(\"Profiles\",)).T"
   ]
  },
  {
   "cell_type": "markdown",
   "metadata": {},
   "source": [
    "Our targets are:\n",
    "\n",
    "<i>variable 13</i> for the temperature\n",
    "\n",
    "and  \n",
    "\n",
    "<i>variable 12</i> for the pressure"
   ]
  },
  {
   "cell_type": "markdown",
   "metadata": {},
   "source": [
    "Now we can proceed with the data extraction:"
   ]
  },
  {
   "cell_type": "code",
   "execution_count": 10,
   "metadata": {
    "collapsed": true
   },
   "outputs": [],
   "source": [
    "ppl.extract(13)\n",
    "ppl.extract(12)"
   ]
  },
  {
   "cell_type": "markdown",
   "metadata": {},
   "source": [
    "The ppl object now has the two profiles available in the `data` attribute:"
   ]
  },
  {
   "cell_type": "code",
   "execution_count": 11,
   "metadata": {},
   "outputs": [
    {
     "data": {
      "text/plain": [
       "dict_keys([12, 13])"
      ]
     },
     "execution_count": 11,
     "metadata": {},
     "output_type": "execute_result"
    }
   ],
   "source": [
    "ppl.data.keys()"
   ]
  },
  {
   "cell_type": "markdown",
   "metadata": {},
   "source": [
    "while the *label* attibute stores the variable type:"
   ]
  },
  {
   "cell_type": "code",
   "execution_count": 12,
   "metadata": {},
   "outputs": [
    {
     "data": {
      "text/plain": [
       "\"TM 'SECTION:' 'BRANCH:' 'riser' '(C)' 'Fluid temperature'\""
      ]
     },
     "execution_count": 12,
     "metadata": {},
     "output_type": "execute_result"
    }
   ],
   "source": [
    "ppl.label[13]"
   ]
  },
  {
   "cell_type": "markdown",
   "metadata": {},
   "source": [
    "### Ppl data structure"
   ]
  },
  {
   "cell_type": "markdown",
   "metadata": {},
   "source": [
    "The ppl data structure at the moment contains:\n",
    "\n",
    "* the geometry profile of the branch as `ppl.data[variable_index][0]`\n",
    "* the selected profile at the timestep 0 as `ppl.data[variable_index][1][0]`\n",
    "* the selected profile at the last timestep as `ppl.data[variable_index][1][-1]`\n",
    "\n",
    "In other words the first index is the variable, the second is 0 for the geometry and 1 for the data, the last one identifies the timestep."
   ]
  },
  {
   "cell_type": "markdown",
   "metadata": {},
   "source": [
    "### Data processing"
   ]
  },
  {
   "cell_type": "markdown",
   "metadata": {},
   "source": [
    "The results available in the data attribute are numpy arrays and can be easily manipulated and plotted:"
   ]
  },
  {
   "cell_type": "code",
   "execution_count": 13,
   "metadata": {},
   "outputs": [],
   "source": [
    "%matplotlib inline\n",
    "\n",
    "geometry = ppl.data[12][0]\n",
    "pt_riser = ppl.data[12][1]\n",
    "tm_riser = ppl.data[13][1]\n",
    "\n",
    "def ppl_plot(geo, v0, v1, ts):\n",
    "    fig, ax0 = plt.subplots(figsize=(12, 7));\n",
    "    ax0.grid(True)\n",
    "    p0, = ax0.plot(geo, v0[ts])\n",
    "    ax0.set_ylabel(\"[C]\", fontsize=16)\n",
    "    ax0.set_xlabel(\"[m]\", fontsize=16)\n",
    "    ax1 = ax0.twinx()\n",
    "    p1, = ax1.plot(geo, v1[ts]/1e5, 'r')\n",
    "    ax1.grid(False)\n",
    "    ax1.set_ylabel(\"[bara]\", fontsize=16)\n",
    "    ax1.tick_params(axis=\"both\", labelsize=16)\n",
    "    ax1.tick_params(axis=\"both\", labelsize=16)\n",
    "    plt.legend((p0, p1), (\"Temperature profile\", \"Pressure profile\"), loc=3, fontsize=16)\n",
    "    plt.title(\"P and T for case FC1\", size=20);"
   ]
  },
  {
   "cell_type": "markdown",
   "metadata": {},
   "source": [
    "To plot the last timestep:"
   ]
  },
  {
   "cell_type": "code",
   "execution_count": 14,
   "metadata": {},
   "outputs": [
    {
     "data": {
      "image/png": "[encoded data removed]",
      "text/plain": [
       "<Figure size 864x504 with 2 Axes>"
      ]
     },
     "metadata": {},
     "output_type": "display_data"
    }
   ],
   "source": [
    "ppl_plot(geometry, tm_riser, pt_riser, -1)"
   ]
  },
  {
   "cell_type": "markdown",
   "metadata": {},
   "source": [
    "The time can also be used as parameter:"
   ]
  },
  {
   "cell_type": "code",
   "execution_count": 15,
   "metadata": {},
   "outputs": [
    {
     "data": {
      "image/png": "[encoded data removed]",
      "text/plain": [
       "<Figure size 864x504 with 2 Axes>"
      ]
     },
     "metadata": {},
     "output_type": "display_data"
    }
   ],
   "source": [
    "import ipywidgets.widgets as widgets\n",
    "from ipywidgets import interact\n",
    "\n",
    "timesteps=len(tm_riser)-1 \n",
    "\n",
    "@interact\n",
    "def ppl_plot(ts=widgets.IntSlider(min=0, max=timesteps)):\n",
    "    fig, ax0 = plt.subplots(figsize=(12, 7));\n",
    "    ax0.grid(True)\n",
    "    p0, = ax0.plot(geometry, tm_riser[ts])\n",
    "    ax0.set_ylabel(\"[C]\", fontsize=16)\n",
    "    ax0.set_xlabel(\"[m]\", fontsize=16)\n",
    "    ax0.set_ylim(10, 12)\n",
    "    ax1 = ax0.twinx()\n",
    "    ax1.set_ylim(90, 130)\n",
    "    p1, = ax1.plot(geometry, pt_riser[ts]/1e5, 'r')\n",
    "    ax1.grid(False)\n",
    "    ax1.set_ylabel(\"[bara]\", fontsize=16)\n",
    "    ax1.tick_params(axis=\"both\", labelsize=16)\n",
    "    ax1.tick_params(axis=\"both\", labelsize=16)\n",
    "    plt.legend((p0, p1), (\"Temperature profile\", \"Pressure profile\"), loc=3, fontsize=16)\n",
    "    plt.title(\"P and T for case FC1 @ timestep {}\".format(ts), size=20);"
   ]
  },
  {
   "cell_type": "markdown",
   "metadata": {},
   "source": [
    "<i>The above plot has an interactive widget if executed</i>"
   ]
  },
  {
   "cell_type": "markdown",
   "metadata": {},
   "source": [
    "### Advanced data processing"
   ]
  },
  {
   "cell_type": "markdown",
   "metadata": {},
   "source": [
    "An example of advanced data processing for Python enthusiasts and professional flow assurance.\n",
    "Script below extracts variable profiles along given branches at given time steps. Usage instructions:\n",
    "- Consecutive branches are joined together and extracted profiles are written into a CSV file.\n",
    "- For unit conversion multiplication factors for every variable can be given.\n",
    "- Global variables can be redefined before every call of main(), which allows for multiple extractions in a single script run. No need to modify the functions, unless you know what you are doing.\n",
    "- Only few global variables and lists have to be defined, see below main(), there is no need to edit the functions.\n",
    "- The script does not perform error checks, make sure that all variables, branches and times (time steps) are present in the simulation file."
   ]
  },
  {
   "cell_type": "code",
   "execution_count": null,
   "metadata": {},
   "outputs": [],
   "source": [
    "import os\n",
    "import sys\n",
    "import time\n",
    "import pyfas as fa\n",
    "\n",
    "\n",
    "def getVarsInds(ppl, emptyLst):\n",
    "\n",
    "\tfor _, var in enumerate(allVar):\n",
    "\t\n",
    "\t\tlst = []\n",
    "\t\n",
    "\t\t# dictionary of the following kind:\n",
    "\t\t# {4: \"PT 'SECTION:' 'BRANCH:' 'old_offshore' '(PA)' 'Pressure'\\n\",\n",
    "\t\t#  12: \"PT 'SECTION:' 'BRANCH:' 'riser' '(PA)' 'Pressure'\\n\"}\n",
    "\t\tmyDic = ppl.filter_data(var)\n",
    "\t\n",
    "\t\tfor _, pos in enumerate(allPos):\n",
    "\n",
    "\t\t\tfor _, (k, v) in enumerate(myDic.items()):\n",
    "\t\t\t\n",
    "\t\t\t\tlstStr  = v.split(\"' '\")\n",
    "\t\t\t\tlstStr1 = v.split(\" \")\n",
    "\t\t\t\t\n",
    "\t\t\t\tif lstStr1[0] == var and lstStr[2] == pos: # my var and branch\n",
    "\t\t\t\t\n",
    "\t\t\t\t\tlst.append( int(k) )\n",
    "\t\t\t\t\tbreak\n",
    "\t\t\n",
    "\t\temptyLst.append(lst)\n",
    "\n",
    "\n",
    "def getData(ppl, pplFileName, fullLst):\n",
    "\n",
    "\tfilterTimesLstLoc = filterTimesLst\n",
    "\tif filterTime and (not filterTimesLstLoc):\n",
    "\t\tfilterTimesLstLoc = [round( ppl.time[myTS-1] / 3600.0, 3 ) for myTS in filterTimesInd]\n",
    "\t\n",
    "\tfor i, _ in enumerate(allVar):\n",
    "\t\tfor j, _ in enumerate(allPos): ppl.extract( fullLst[i][j] )\n",
    "\t\n",
    "\tfout = open(\"{0}.csv\".format(pplFileName), 'w')\n",
    "\t\n",
    "\t# write header\n",
    "\toutLine = \"\"\n",
    "\tfor i, _ in enumerate(allVar):\n",
    "\t\tfor ts in range( len(ppl.time) ):\n",
    "\t\t\toutStr = \"Pipe L [km],{0},\".format( allNam[i] )\n",
    "\t\t\tif filterTime:\n",
    "\t\t\t\tif round(ppl.time[ts] / 3600.0, 3) in filterTimesLstLoc: outLine += outStr\n",
    "\t\t\telse: outLine += outStr\n",
    "\tfout.write(\"{0}\\n\".format(outLine))\n",
    "\t\n",
    "\toutLine = \"\"\n",
    "\tfor i, _ in enumerate(allVar):\n",
    "\t\tfor ts in range( len(ppl.time) ):\n",
    "\t\t\toutStr = \"Time [hr],{0},\".format( float(ppl.time[ts]) / 3600.0 )\n",
    "\t\t\tif filterTime:\n",
    "\t\t\t\tif round(ppl.time[ts] / 3600.0, 3) in filterTimesLstLoc: outLine += outStr\n",
    "\t\t\telse: outLine += outStr\n",
    "\tfout.write(\"{0}\\n\".format(outLine))\n",
    "\t\n",
    "\t# write profiles\n",
    "\tlastGeomPoint = 0.0\n",
    "\tfor j, _ in enumerate(allPos):\n",
    "\t\t\n",
    "\t\tgeomPrfl = ppl.data[ fullLst[0][j] ][ 0 ] + lastGeomPoint # geometry profile\n",
    "\t\t\n",
    "\t\tfor p in range( len( ppl.data[ fullLst[0][j] ][ 1 ][ 0 ] ) ): # for p in range( len(geomPrfl) ): # loop over profile points\n",
    "\t\t\t\n",
    "\t\t\toutLine = \"\"\n",
    "\t\t\t\n",
    "\t\t\tfor i, _ in enumerate(allVar):\n",
    "\t\t\t\t\n",
    "\t\t\t\tfor ts in range( len(ppl.time) ): # loop over timesteps\n",
    "\t\t\t\t\t\n",
    "\t\t\t\t\tvarPrfl  = ppl.data[ fullLst[i][j] ][ 1 ][ ts ] # var profile at the timestep ts\n",
    "\t\t\t\t\t\n",
    "\t\t\t\t\toutStr = \"{0},{1},\".format( float(geomPrfl[p]) / 1000.0, float(varPrfl[p]) * allMul[i] )\n",
    "\t\t\t\t\t\n",
    "\t\t\t\t\tif filterTime:\n",
    "\t\t\t\t\t\tif round(ppl.time[ts] / 3600.0, 3) in filterTimesLstLoc: outLine += outStr\n",
    "\t\t\t\t\telse:\n",
    "\t\t\t\t\t\toutLine += outStr\n",
    "\t\t\t\t\n",
    "\t\t\tfout.write(\"{0}\\n\".format(outLine))\n",
    "\t\t\n",
    "\t\tif doSpecialGeomJoin:\n",
    "\t\t\tlastGeomPoint = geomPrfl[0] - lastGeomPoint + geomPrfl[-1] # check it for the genral case with more than two sections!!!\n",
    "\t\telse:\n",
    "\t\t\tlastGeomPoint = geomPrfl[-1]\n",
    "\t\n",
    "\tfout.close()\n",
    "\n",
    "\n",
    "def main():\n",
    "\n",
    "\tprint( \"{0} initialization\".format(time.strftime(\"%H:%M:%S\", time.localtime())) )\n",
    "\tfname = myPPLFile\n",
    "\tppl = fa.Ppl(fname)\n",
    "\t\n",
    "\tvarIndLst = [] # separate list for every var in order (all postions/branches for every var)\n",
    "\tgetVarsInds(ppl, varIndLst)\n",
    "\t\n",
    "\tprint( \"{0} extraction\".format(time.strftime(\"%H:%M:%S\", time.localtime())) )\n",
    "\t\n",
    "\tgetData(ppl, fname, varIndLst)\n",
    "\t\n",
    "\tprint( \"{0} done\".format(time.strftime(\"%H:%M:%S\", time.localtime())) )\n",
    "\n",
    "\n",
    "# global variables\n",
    "allMul = [1.0, 1.0e-5, 1.0]\n",
    "allVar = [\"TM\", \"PT\", \"ROF\"]\n",
    "allNam = [\"Temperature, degC\", \"Pressure, bara\", \"Mixture Density, kg/m3\"]\n",
    "\n",
    "doSpecialGeomJoin = False\n",
    "\n",
    "myPPLFile = \"OLGA_Simulation.ppl\"\n",
    "\n",
    "filterTime = True\n",
    "filterTimesLst = [] # as an option (if the list is not empty), time in hours rounded to three decimal points\n",
    "\n",
    "\n",
    "# extract data (i)\n",
    "filterTimesInd = [1, 2, 3, 4, 5, 10, 50, 100] # the first time step is one (not zero!)\n",
    "allPos = [\"E_RISER\", \"E_FLOWLINE\"]\n",
    "main()\n",
    "os.rename( \"{0}.csv\".format(myPPLFile), \"{0}_East.csv\".format(myPPLFile) )\n",
    "\n",
    "# extract data (ii)\n",
    "filterTimesInd = [1, 2, 3, 4, 5, 10, 50, 100] # the first time step is one (not zero!)\n",
    "allPos = [\"W_RISER\", \"W_FLOWLINE\"]\n",
    "main()\n",
    "os.rename( \"{0}.csv\".format(myPPLFile), \"{0}_West.csv\".format(myPPLFile) )"
   ]
  }
 ],
 "metadata": {
  "hide_input": true,
  "kernelspec": {
   "display_name": "Python 3",
   "language": "python",
   "name": "python3"
  },
  "language_info": {
   "codemirror_mode": {
    "name": "ipython",
    "version": 3
   },
   "file_extension": ".py",
   "mimetype": "text/x-python",
   "name": "python",
   "nbconvert_exporter": "python",
   "pygments_lexer": "ipython3",
   "version": "3.8.8"
  },
  "toc": {
   "toc_cell": false,
   "toc_number_sections": true,
   "toc_threshold": 6,
   "toc_window_display": false
  },
  "widgets": {
   "state": {
    "8a6563d0e25841c1ba84053393a66bd2": {
     "views": [
      {
       "cell_index": 34
      }
     ]
    }
   },
   "version": "1.2.0"
  }
 },
 "nbformat": 4,
 "nbformat_minor": 2
}
